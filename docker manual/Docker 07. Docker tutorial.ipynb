{
 "cells": [
  {
   "cell_type": "markdown",
   "metadata": {},
   "source": [
    "# 07. Docker tutorial\n",
    "\n",
    "다룰 내용: 도커를 다루는 주요 방법"
   ]
  },
  {
   "cell_type": "markdown",
   "metadata": {},
   "source": [
    "## 1. Download Docker Desktop\n",
    "\n",
    "* `02. How to start Docker` 내용을 참조하여 Docker Desktop을 설치할 것\n",
    "* Docker Desktop 을 설치하면 Windows Powershell 에서 Docker를 다룰 수 있다.\n",
    "![download](fig 07/fig7-1.png)\n",
    "\n"
   ]
  },
  {
   "cell_type": "markdown",
   "metadata": {},
   "source": [
    "## 2. Clone or Pull\n",
    "\n",
    "* Git Clone 혹은 Docker Pull 을 통해 저장소 혹은 컨테이너를 다운로드 받는다. \n",
    "![clone](fig 07/fig7-2.png)\n",
    "![clone](fig 07/fig7-3.png)\n"
   ]
  },
  {
   "attachments": {},
   "cell_type": "markdown",
   "metadata": {},
   "source": [
    "## 3. Build & Tag\n",
    "\n",
    "* 도커 이미지를 빌드한다.\n",
    "* 생성된 이미지는 사용자 고유의 것이다.\n",
    "* 도커 이미지는 컨테이너에서 필요로하는 코드와 파일을 포함한다.\n",
    "* 이미지에는 사용자 사이의 충돌을 막기 위하여 버젼을 표기하는 Tag가 필요하다. (코드 중 `-t`)\n",
    "* 모든 사용자는 작업을 하기 전에 이미지가 latest 인지 확인한다.\n",
    "![build](fig 07/fig7-4.png)\n",
    "![build](fig 07/fig7-5.png)\n",
    "![build](fig 07/fig7-6.png)"
   ]
  },
  {
   "cell_type": "markdown",
   "metadata": {},
   "source": [
    "## 4. Run\n",
    "\n",
    "* 사용자가 사용하는 기기 환경과는 독립된 도커 환경에서의 컨테이너를 실행할 수 있다.\n",
    "* `--rm` 은 자동적으로 이미 존재하여 중복되는 컨테이너를 지워준다.\n",
    "* `-it`는 이미지가 가지는 가상환경에서의 이름을 지시한다.\n",
    "![Run](fig 07/fig7-7.png)\n",
    "![Run](fig 07/fig7-8.png)\n"
   ]
  },
  {
   "cell_type": "markdown",
   "metadata": {},
   "source": [
    "## 5. Push\n",
    "\n",
    "* Git 과 마찬가지로 Push와 Pull을 통해 Docker Hub와 사용자 기기 사이의 파일 공유를 할 수 있다.\n",
    "* `login`은 Docker Hub 계정 로그인을 의미하며 ID와 Password를 입력해야 한다.\n",
    "* Push는 로컬 저장소에 있는 컨테이너 이미지를 Docker Hub로 업로드 하는 것을 말한다.\n",
    "![Push](fig 07/fig7-9.png)\n",
    "![Push](fig 07/fig7-10.png)\n",
    "\n"
   ]
  },
  {
   "cell_type": "markdown",
   "metadata": {},
   "source": [
    "## 6. Docker Hub repository\n",
    "\n",
    "* Git과 마찬가지로 Docker Hub 서버로 공유된 컨테이너를 Docker Hub 웹사이트의 저장소에서 확인할 수 있다.\n",
    "* 저장소 링크는 `https://hub.docker.com/r/<User>/<Container>`\n",
    "![repo](fig 07/fig7-11.png)"
   ]
  },
  {
   "cell_type": "markdown",
   "metadata": {},
   "source": [
    "## 결론\n",
    "\n",
    "* 도커를 활용한 컨테이너 이용의 과정은 주로 `Clone or Pull` - `Build&Tag` - `Run` - `Push` 등의 단계로 이루어진다."
   ]
  },
  {
   "cell_type": "markdown",
   "metadata": {},
   "source": [
    "참조\n",
    "\n",
    "* Docker Tutorial https://hub.docker.com/?namespace=dayin&overlay=onboarding\n",
    "* 개발자들을 위한 Docker https://dockercon2018.hubs.vidyard.com/watch/w3RJr1Su6oamQmemhGtaK3\n",
    "* Git 시작하기 https://help.github.com/en/articles/set-up-git\n",
    "* Build https://docs.docker.com/engine/reference/commandline/build/\n",
    "* Run https://docs.docker.com/engine/reference/commandline/run/\n",
    "* Push https://docs.docker.com/engine/reference/commandline/push/"
   ]
  }
 ],
 "metadata": {
  "kernelspec": {
   "display_name": "Python 3",
   "language": "python",
   "name": "python3"
  },
  "language_info": {
   "codemirror_mode": {
    "name": "ipython",
    "version": 3
   },
   "file_extension": ".py",
   "mimetype": "text/x-python",
   "name": "python",
   "nbconvert_exporter": "python",
   "pygments_lexer": "ipython3",
   "version": "3.7.1"
  }
 },
 "nbformat": 4,
 "nbformat_minor": 2
}
