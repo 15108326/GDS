{
 "cells": [
  {
   "cell_type": "markdown",
   "metadata": {},
   "source": [
    "# Running Jupyter Notebook\n",
    "\n",
    "## Docker Desktop\n",
    "\n",
    "새로운 명령창을 열어준 뒤 다음의 명령어를 입력해준다.\n",
    "\n",
    "* docker run --name notebook -w /home/fenics -v $(pwd):/home/fenics/shared -d -p 127.0.0.1:8888:8888 quay.io/fenicsproject/stable 'jupyter-notebook --ip=0.0.0.0'\n",
    "\n"
   ]
  },
  {
   "cell_type": "markdown",
   "metadata": {},
   "source": [
    "![Docker](fig 11/fig11-1.png)"
   ]
  },
  {
   "cell_type": "markdown",
   "metadata": {
    "collapsed": true
   },
   "source": [
    "## Docker Toolbox\n",
    "\n",
    "* docker run --name notebook -w /home/fenics -v $(pwd):/home/fenics/shared -d -p $(docker-machine ip $(docker-machine active)):8888:8888 quay.io/fenicsproject/stable 'jupyter-notebook --ip=0.0.0.0'\n"
   ]
  },
  {
   "cell_type": "markdown",
   "metadata": {},
   "source": [
    "## Finding out the access token\n",
    "\n",
    "* Jupyter는 사용자만 notebook에 접근할 수 있도록 고유한 token(암호)를 만든다.\n",
    "\n",
    "* 명령창에 docker ps 입력 - 실행중인 이미지 확인 가능\n",
    "\n",
    "![Docker](fig 11/fig11-2.png)\n",
    "\n",
    "* container ID 확인\n",
    "* docker logs ebc7d79404f2 입력 - 뒤의 ebc7d79404f2는 container ID\n",
    "\n",
    "![Docker](fig 11/fig11-3.png)\n",
    "\n",
    "* 7dc1a958d02b732ed168f01885340822f36abea3ca8eeee3 가 token이다.\n",
    "\n"
   ]
  },
  {
   "cell_type": "markdown",
   "metadata": {},
   "source": [
    "* file:///home/fenics/.local/share/jupyter/runtime/nbserver-14-open.html 을 브라우저에서 열거나\n",
    "*  http://(ebc7d79404f2 or 127.0.0.1):8888/?token=7dc1a958d02b732ed168f01885340822f36abea3ca8eeee3 둘 중 하나의 URL을 통해 Jupyter notebook에 접속 할 수 있다.\n",
    "\n",
    "![Docker](fig 11/fig11-4.png)"
   ]
  },
  {
   "cell_type": "markdown",
   "metadata": {},
   "source": [
    "## Fenics Test\n",
    "\n",
    "![Docker](fig 11/fig11-5.png)\n",
    "\n",
    "![Docker](fig 11/fig11-6.png)"
   ]
  },
  {
   "cell_type": "markdown",
   "metadata": {},
   "source": [
    "### 출처\n",
    "https://fenics.readthedocs.io/projects/containers/en/latest/jupyter.html"
   ]
  }
 ],
 "metadata": {
  "kernelspec": {
   "display_name": "Python 3",
   "language": "python",
   "name": "python3"
  },
  "language_info": {
   "codemirror_mode": {
    "name": "ipython",
    "version": 3
   },
   "file_extension": ".py",
   "mimetype": "text/x-python",
   "name": "python",
   "nbconvert_exporter": "python",
   "pygments_lexer": "ipython3",
   "version": "3.6.1"
  }
 },
 "nbformat": 4,
 "nbformat_minor": 2
}
