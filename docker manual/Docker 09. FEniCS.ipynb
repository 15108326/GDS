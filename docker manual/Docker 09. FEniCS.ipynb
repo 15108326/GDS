{
 "cells": [
  {
   "cell_type": "markdown",
   "metadata": {},
   "source": [
    "# FEniCS in Docker\n",
    "\n",
    "\n",
    "## Checking that Docker is working\n",
    "\n",
    "* docker run hello-world\n",
    "![Docker](fig 09/fig9-1.png)"
   ]
  },
  {
   "cell_type": "markdown",
   "metadata": {},
   "source": [
    "## To pull the image\n",
    "\n",
    "* docker pull quay.io/fenicsproject/stable:latest\n",
    "\n",
    "\n",
    "![Docker](fig 09/fig9-2.png)\n"
   ]
  },
  {
   "cell_type": "markdown",
   "metadata": {},
   "source": [
    "## To start FEniCS \n",
    "\n",
    "* docker run -ti quay.io/fenicsproject/stable:latest\n",
    "\n",
    "![Docker](fig 09/fig9-3.png)\n",
    "\n",
    "fenics@1eea138d9bb6\n",
    "* fenics는 컨테이너 안에서 사용자이름\n",
    "* 뒤의 leea138d9bb6은 컨테이너 아이디\n",
    "\n",
    "\n",
    "\n",
    "\n",
    "\n",
    "\n",
    "\n",
    "https://fenics.readthedocs.io/projects/containers/en/latest/ 를 참고해서 docker를 이용한 fenics사용을 좀 더 살펴볼 예정이다."
   ]
  }
 ],
 "metadata": {
  "kernelspec": {
   "display_name": "Python 3",
   "language": "python",
   "name": "python3"
  },
  "language_info": {
   "codemirror_mode": {
    "name": "ipython",
    "version": 3
   },
   "file_extension": ".py",
   "mimetype": "text/x-python",
   "name": "python",
   "nbconvert_exporter": "python",
   "pygments_lexer": "ipython3",
   "version": "3.6.1"
  }
 },
 "nbformat": 4,
 "nbformat_minor": 2
}
