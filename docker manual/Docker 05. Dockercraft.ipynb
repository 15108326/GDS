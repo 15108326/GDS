{
 "cells": [
  {
   "cell_type": "markdown",
   "metadata": {},
   "source": [
    "# 05. Dockercraft\n",
    "\n",
    "다룰 내용: 도커에서 마인크래프트를 다루는 이유, 방법, CLI"
   ]
  },
  {
   "cell_type": "markdown",
   "metadata": {},
   "source": [
    "## 1. Minecraft\n",
    "\n",
    "* Mojang 사의 게임 제품으로, Mojang Synergies AB의 상표이다.\n",
    "* 크리에이티브 모드에서 플레이어의 상상을 표현할수 있는 무한한 자원이 제공되며, 서바이벌 모드에서 탐험 등을 하기 위해 필요한 자원을 채굴한다.\n",
    "* 마이크로소프트에서 25억 달러에 인수하였다.\n",
    "* 사티야 나델라는 STEM(과학, 기술, 공학, 수학) 교육에 있어 마인크래프트가 적격이라고 말하였다.\n",
    "* 부산광역시 교육청은 교육용 게임으로써 이를 활용한 코딩 교육을 제공한다.\n",
    "![Minecraft](fig 05/fig5-1.png)"
   ]
  },
  {
   "cell_type": "markdown",
   "metadata": {},
   "source": [
    "## 2. What is Dockercraft\n",
    "\n",
    "* Docker + Minecraft\n",
    "* 마인크래프트로 도커 컨테이너를 관리하는 클라이언트 프로그램이다.\n",
    "* 도커 공식 계정 중 하나이다.\n",
    "* https://github.com/docker/dockercraft\n",
    "* https://www.youtube.com/watch?v=eZDlJgJf55o\n",
    "![Dockercraft](fig 05/fig5-2.png)\n",
    "* 사용자는 자신의 기기(local machine)에서만 실행할 수 있다.\n",
    "* 컨테이너 이미지를 배치하고 다루는 추상적인 개념을 도커크래프트에서 가시화해준다."
   ]
  },
  {
   "cell_type": "markdown",
   "metadata": {},
   "source": [
    "## 3. How to run Dockercraft\n",
    "\n",
    "1. 공식 릴리즈 버젼의 마인크래프트를 설치한다. `minecraft.net`\n",
    "![Install Minecraft](fig 05/fig5-3.png)\n",
    "\n",
    "2. Dockercraft의 이미지를 `Pull` 혹은 `Build` 한다.\n",
    "  1. `docker pull gaetan/dockercraft`\n",
    "  2. `git clone git@github.com:docker/dockercraft.git\n",
    "  docker build -t gaetan/dockercraft dockercraft`\n",
    "![docker pull](fig 05/fig5-13.png)\n",
    "\n",
    "3. Dockercraft 컨테이너를 구동시킨다.\n",
    "  `docker run -t -i -d -p 25565:25565 \\\n",
    "  -v /var/run/docker.sock:/var/run/docker.sock \\\n",
    "  --name dockercraft \\\n",
    "  gaetan/dockercraft`\n",
    "  * 둘째 줄은 도커 Remote API에 요청을 보내기 위해 필요한 코드이다.\n",
    "  * 마인크래프트 서버는 25565가 디폴트이며, 다른 것을 원할 경우 `-p <port>:25565`\n",
    "![docker run](fig 05/fig5-14.png)\n",
    "\n",
    "4. Open Minecraft > Multiplayer > Add Server\n",
    "  * 서버 주소는 도커 호스트의 IP를 입력한다.\n",
    "  * Docker Machine을 사용할 경우 `docker-machine ip <machine_name>`\n",
    "  * Docker Machine 설치 https://docs.docker.com/machine/install-machine/\n",
    "  * Docker Machine 확인 `docker-machine version`\n",
    "  * Multiplayer 기능을 사용할 수 없어 실험은 여기까지만 진행하였다. (정식 구매 버젼만 사용 가능, 평가판 또한 불가능)\n",
    "\n",
    "5. Server 이용하기\n",
    "  * 도커크래프트 상에서 적어도 하나의 컨테이너를 볼 수 있다.\n",
    "  * 해당 컨테이너는 사용자의 도커크래프트 서버를 호스팅하는 역할을 한다.\n",
    "  * 도커크래프트 내에서 컨테이너를 start, stop, remove 등을 할 수 있다.\n",
    "  * 일부 도커의 커맨드가 도커크래프트 채팅창에서 동작한다. `T` 혹은 `/`를 채팅창에 입력하면 커맨드를 확인할 수 있다.\n",
    "  * 커맨드를 입력할 때는 `/`를 먼저 입력하여야 한다. ex) `/docker run dedis`\n",
    "  "
   ]
  },
  {
   "cell_type": "markdown",
   "metadata": {},
   "source": [
    "## 4. Docker CLI\n",
    "\n",
    "* CLI 명령어가 궁금할 때는 `docker help`\n",
    "![docker command](fig 05/fig5-21.png)\n",
    "![docker command](fig 05/fig5-22.png)\n",
    "![docker command](fig 05/fig5-23.png)\n",
    "\n",
    "* 사용 예시\n",
    "  1. 이미지 Pull 하기 `docker pull <User name>/<image name>`\n",
    "  2. 버젼 확인 `docker run <User name>/<image name>:latest\n",
    "    * `usermod: no changes` 라고 뜨면 최신 버젼이 맞다.\n",
    "    * 버젼이 다르면 원본 image와 다른 것으로 간주되므로 충돌이 발생하거나 실행이 안된다."
   ]
  },
  {
   "cell_type": "markdown",
   "metadata": {},
   "source": [
    "## Minecraft Education Edition\n",
    "\n",
    "1. https://education.minecraft.net/ 접속\n",
    "![education minecraft](fig 05/fig5-4.png)\n",
    "2. `GET STARTED` 를 누른 후 이메일 계정을 입력하거나 무료 다운로드를 누른다.\n",
    "![start with email](fig 05/fig5-5.png)\n",
    "![start with email](fig 05/fig5-6.png)\n",
    "![start with free download](fig 05/fig5-7.png)\n",
    "![start with free download](fig 05/fig5-8.png)\n",
    "![start with free download](fig 05/fig5-9.png)\n",
    "3. Education Edition을 설치한다.\n",
    "![install education edition](fig 05/fig5-10.png)\n",
    "4. 유효한 이메일 계정으로 로그인한다.\n",
    "  * 학교 이메일 계정으로 대학생용 MS Office를 받은 적이 있을 경우, 배정받은 Office 365 계정을 사용하면 된다.\n",
    "![login](fig 05/fig5-11.png)\n",
    "![login](fig 05/fig5-12.png)\n"
   ]
  },
  {
   "cell_type": "markdown",
   "metadata": {},
   "source": [
    "## 평가판\n",
    "\n",
    "1. https://www.minecraft.net/ko-kr/ 접속 후 메뉴(우측 상단) 에서 시험 사용 및 다운로드\n",
    "![main](fig 05/fig5-15.png)\n",
    "2. 사용할 기기 및 OS를 선택한다.\n",
    "![select OS](fig 05/fig5-16.png)\n",
    "3. 다운로드를 클릭한다.\n",
    "![download](fig 05/fig5-17.png)\n",
    "4. 구입 버튼 옆의 `…` 에서 무료 평가판 선택\n",
    "![download](fig 05/fig5-18.png)\n",
    "![start](fig 05/fig5-19.png)\n",
    "![fail](fig 05/fig5-20.png)"
   ]
  },
  {
   "cell_type": "markdown",
   "metadata": {},
   "source": [
    "참조\n",
    "\n",
    "https://www.minecraft.net/ko-kr/what-is-minecraft/\n",
    "https://minecraft.gamepedia.com/Minecraft_Wiki\n",
    "http://www.ciokorea.com/news/22311\n",
    "https://github.com/docker/dockercraft\n",
    "https://blog.naver.com/matrix1597/220558219027\n",
    "https://education.minecraft.net/\n",
    "https://hub.docker.com/r/itzg/minecraft-server\n",
    "https://www.youtube.com/watch?v=2pptPgmJ_3U\n",
    "https://www.youtube.com/watch?v=JtKIpGjtLzw\n",
    "https://www.minecraft.net/ko-kr/\n",
    "https://www.youtube.com/watch?v=YFl2mCHdv24"
   ]
  }
 ],
 "metadata": {
  "kernelspec": {
   "display_name": "Python 3",
   "language": "python",
   "name": "python3"
  },
  "language_info": {
   "codemirror_mode": {
    "name": "ipython",
    "version": 3
   },
   "file_extension": ".py",
   "mimetype": "text/x-python",
   "name": "python",
   "nbconvert_exporter": "python",
   "pygments_lexer": "ipython3",
   "version": "3.6.5"
  }
 },
 "nbformat": 4,
 "nbformat_minor": 2
}
