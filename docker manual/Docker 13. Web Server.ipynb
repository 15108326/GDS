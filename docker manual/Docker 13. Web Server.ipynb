{
 "cells": [
  {
   "cell_type": "markdown",
   "metadata": {},
   "source": [
    "# 13. Web Server"
   ]
  },
  {
   "cell_type": "markdown",
   "metadata": {},
   "source": [
    "## Downloading Nginx Docker Image\n",
    "\n",
    "Nginx Docker 이미지를 다운로드하고 컨테이너를 실행하여 웹 서버로 공개적으로 액세스 할 수있는 방법\n",
    "\n",
    "컨테이너를 생성하면 기본적으로 외부와 통신이 불가능한 상태\n",
    "\n",
    "즉, 인터넷에서 액세스 할 수 없으므로 컨테이너를 외부로 노출할 포트를 지정해야 함\n",
    "\n",
    "$ docker run -p 8080:80 --name web nginx\n",
    "\n",
    "위의 명령은 외부에서 docker host의 8080 포트로 요청이 들어오면 web 컨테이너의 80번 포트로 해당 요청을 forwarding하겠다는 의미\n",
    "\n",
    "\n",
    "#### Port Forwarding (혹은 Port Mapping) \n",
    "- 네트워크에서 IP주소를 포트 번호를 결합시켜 한꺼번에 통신 요청을 넘겨주는 네트워크 주소 변환 기술(NAT)의 응용\n",
    "- 자신의 서버에 접속할 때, (203.246.85.149:8000) 등 처럼 쳐서 접속하듯이\n",
    "  일반적으로 웹 브라우저를 통해 웹 사이트를 이용하면 해당 사이트의 도메인 네임(naver.com) 혹은 ip(121.323.43.23) 등을 쳐서 접속 가능.\n",
    "- 이때에 사실 포트 번호는 숨겨져 있을 뿐 웹 브라우저의 경우, 80번 포트가 표준으로 지정되어 있음.\n",
    "   즉, 실제 웹 브라우저는 (naver.com:80) , (121.323.43.23:80)이라는 정보를 보내어 접속하는 것\n",
    "- 만약, (121.323.43.23)가 자신의 외부 네트워크 IP라면,  (121.323.43.23:80) -> (203.246.85.149:8000)로 변환하는 과정을 거쳐서 외부에서도 서 버에 접근하도록 할 수 있다는 개념이다.\n",
    "\n",
    "\n"
   ]
  },
  {
   "cell_type": "markdown",
   "metadata": {},
   "source": [
    "![nginx](fig 13/fig13-1.png)\n",
    "\n",
    "\n",
    "1. nginx 이미지를 받는다.\n",
    "\n",
    "   $ docker pull nginx\n",
    "\n",
    "\n",
    "2. docker nginx container 실행\n",
    "\n",
    "   $ docker run --name 컨테이너이름 -p 80:80 이미지이름 : 버전정보\n",
    "   \n",
    "-p옵션 : 호스트 서버의 80번 포트와 도커 서버의 80번 포트를 연결\n",
    "\n",
    "\n",
    "웹브라우저에 ip주소 or localhost 입력하면 nginx의 “Welcome to nginx!” 페이지를 확인할 수 있다.\n",
    "\n",
    "![nginx](fig 13/fig13-2.png)\n",
    "\n",
    "(ctrl+c) 구동중인 nginx 웹서버 중지\n",
    "\n",
    "![nginx](fig 13/fig13-3.png)\n"
   ]
  },
  {
   "cell_type": "markdown",
   "metadata": {},
   "source": [
    "## Running Docker Nginx in Detached Mode\n",
    "\n",
    "#### detached mode\n",
    "- -d 옵션을 통해 실행가능\n",
    "- container가 백그라운드에서 시작되고 실행됨\n",
    "- 웹 서버나 데이터베이스 서버와 같이 계속해서 실행이 되고 있어야 하는 서비스에 주로 적용\n",
    "\n",
    "![nginx](fig 13/fig13-4.png)\n",
    "\n",
    "* 이전의 nginx container 삭제\n",
    "  \n",
    "   $ docker stop 컨테이너이름 또는 아이디\n",
    "   \n",
    "   $ docker rm 컨테이너이름 또는 아이디\n",
    "   \n",
    "\n",
    "\n",
    "* 새로운 detached nginx container 생성\n",
    "\n",
    "   $ docker run --name 컨테이너이름 -p 80:80 -d nginx\n",
    "\n",
    "이 때는 (ctrl+c)를 눌러도 컨테이너가 실행상태로 남아있다. 따라서 컨테이너를 종료하려면 docker stop명령이 필요하다."
   ]
  },
  {
   "cell_type": "markdown",
   "metadata": {},
   "source": [
    "![nginx](fig 13/fig13-5.png)\n",
    "\n",
    "* 새로운 컨테이너가 돌아가고 있으며 포트 번호가 0.0.0.0:80->80/tcp로 매핑되어 있는 것 확인 가능\n",
    "\n",
    "* 0.0.0.0은 로컬"
   ]
  },
  {
   "cell_type": "markdown",
   "metadata": {},
   "source": [
    "## Building a Web Page to Serve on Nginx\n",
    "\n",
    "* ####  home directory에 website 콘텐츠를 위한 새로운 directory 생성\n",
    "\n",
    "![nginx](fig 13/fig13-6.png)\n",
    "\n",
    "<center>컨테이너 생성</center>\n",
    "  \n",
    "  $ mkdir -p ~/컨테이너이름/html \n",
    "\n",
    "* mkdir : directory 생성 명령어\n",
    "* -p 옵션 : 경로로 지정된 서브 directory가 존재하지 않는 경우에 함께 생성\n",
    " \n",
    "예를들어, $ mkdir -p A/B/C 는 현재 directory의 A 폴더 하위의 B 안에 C를 생성하는데 만약 A와 B가 존재하지 않으면 같이 생성한다는 뜻.\n",
    "\n",
    "* 반대로 rmdir : directory 삭제 명령어\n",
    "* -p 옵션 : 삭제하려는 directory를 제거한 후 부보 directory도 빈 directory가 되면 함께 삭제"
   ]
  },
  {
   "cell_type": "markdown",
   "metadata": {},
   "source": [
    "* ####  메모장으로 html파일 만들기\n",
    "\n",
    "web폴더에 index.html이라는 파일을 만들어 웹브라우저에 띄울 것.\n",
    "\n",
    "html파일을 만들기 위해 메모장 프로그램 이용\n",
    "\n",
    "html : 웹 문서를 만들기 위하여 사용하는 기본적인 웹 언어의 한 종류\n",
    "\n",
    "* 메모장으로 html 형식의 문서 작성\n",
    "\n",
    "![nginx](fig 13/fig13-7.png)\n",
    "\n",
    "- html은 기본적으로 <시작태그>로 시작해서 </종료태그>로 끝남.\n",
    "\n",
    "- !DOCTYPE html : html문서를 시작할 때 이 문서는 html문서이고 어떤 버전을 사용했으며 그 버전에 맞는 방법으로 해석하라고 브라우저에게 알려주는 선언문.\n",
    "- html : 파일확장자\n",
    "- head : 속성\n",
    "- meta charset : 해당 페이지의 인코딩 방식 \n",
    "- utf-8 :가장 많이 사용되는 인코딩 방식\n",
    "- title : 웹페이지 이름\n",
    "- body : 본론 부분이라는 표시\n",
    "- br : 줄바꿈(line break)\n",
    "- h1~h6 : 글자 크기\n",
    "\n",
    "\n",
    "* html파일로 저장하는 방법\n",
    "\n",
    "![nginx](fig 13/fig13-8.png)\n",
    "\n",
    "만들어 둔 html directory에 index.html이라는 이름으로 html파일 저장."
   ]
  },
  {
   "cell_type": "markdown",
   "metadata": {},
   "source": [
    "\n",
    "* 다음 단계로 넘어가기 위해 기존에 돌아가고 있던 web container 삭제\n",
    " \n",
    " $ docker stop web\n",
    " \n",
    " $ docker rm web\n",
    " \n",
    "![nginx](fig 13/fig13-9.png)\n",
    "\n",
    "![nginx](fig 13/fig13-10.png)\n",
    "\n",
    "$ docker run --name 컨테이너이름 -p 80:80 -d -v ~/web/html:/usr/share/nginx/html nginx\n",
    "\n",
    "* -v 옵션 : 컨테이너 내의 파일을 호스트 머신 파일로 대신 사용할 수 있도록 함\n",
    "            but, 도커에 shared로 설정이 된 호스트 경로에 한해서 볼륨 마운트 가능           \n",
    "* /usr/share/nginx/html : 컨테이너 내의 파일 경로\n",
    "* ~/web/html : 홈 디렉토리의 html 디렉토리\n"
   ]
  },
  {
   "cell_type": "markdown",
   "metadata": {},
   "source": [
    "![nginx](fig 13/fig13-11.png)\n",
    "\n",
    "\n",
    "외부 네트워크에서도 열어볼 수 있다.\n",
    "\n",
    "![nginx](fig 13/fig13-12.png)"
   ]
  },
  {
   "cell_type": "markdown",
   "metadata": {},
   "source": [
    "### 출처\n",
    "- https://vexxhost.com/resources/tutorials/how-to-run-nginx-in-a-docker-container-on-ubuntu-16-04/\n",
    "- https://bluese05.tistory.com/53\n",
    "- https://ndb796.tistory.com/95\n",
    "- https://blog.naver.com/bbyong_1/221541070276\n",
    "- 마이크로소프트웨어 394호: 클라우드 혹은 도전(Cloud or Dare)"
   ]
  }
 ],
 "metadata": {
  "kernelspec": {
   "display_name": "Python 3",
   "language": "python",
   "name": "python3"
  },
  "language_info": {
   "codemirror_mode": {
    "name": "ipython",
    "version": 3
   },
   "file_extension": ".py",
   "mimetype": "text/x-python",
   "name": "python",
   "nbconvert_exporter": "python",
   "pygments_lexer": "ipython3",
   "version": "3.6.1"
  }
 },
 "nbformat": 4,
 "nbformat_minor": 2
}
