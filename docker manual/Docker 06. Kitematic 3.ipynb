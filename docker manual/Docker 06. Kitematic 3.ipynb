{
 "cells": [
  {
   "cell_type": "markdown",
   "metadata": {},
   "source": [
    "# 06. Kitematic 3\n",
    "\n",
    "다룰 내용: Win 10 edu 에서의 Kitematic 실행, FENICS 프로젝트"
   ]
  },
  {
   "cell_type": "markdown",
   "metadata": {},
   "source": [
    "## 1. Kitematic install (in Win 10 Edu)\n",
    "\n",
    "* 지난 실험 중 Win 10 Pro 및 Edu 에서 Kitematic을 설치한 뒤에 이미지가 다운로드 받을 수 없는 오류가 발생하였다.\n",
    "![context canceled](fig 06/fig6-1.png)\n",
    "\n",
    "* Win 10 Pro의 경우 Kitematic GitHub 에서 Kitematic `1.*.*` version 이 아닌 `0.*.*` version 을 다운 받아 실행함으로써 문제를 해결하였다.\n",
    "* 같은 방식으로 Win 10 Edu도 동작하는지 확인하였고, 이미지가 다운 받아짐을 확인하였다.\n",
    "![resolve](fig 06/fig6-2.png)\n"
   ]
  },
  {
   "cell_type": "markdown",
   "metadata": {},
   "source": [
    "## 2. Kitematic 기능 살피기\n",
    "\n",
    "* Container logs (Home tab)\n",
    "  * 컨테이너의 현황 log를 보여주는 창이다. 입력이 따로 가능한 창은 아니고 Docker 기능 동작에 따라 새로운 log가 발생할 수 있다.\n",
    "![container logs](fig 06/fig6-3.png)\n",
    "\n",
    "* Settings - General\n",
    "  * 컨테이너의 정보(ID, NAME)를 알 수 있다.\n",
    "  * 컨테이너마다 사용하는 환경을 지정할 수 있다.\n",
    "  * 컨테이너를 지울 수 있다. (지우는 기능은 컨테이너목록에서 X를 누를 때도 실행 가능하다.)\n",
    "![settings general](fig 06/fig6-4.png)\n",
    "![environment variables](fig 06/fig6-5.png)\n",
    "![delete](fig 06/fig6-6.png)\n",
    "\n",
    "\n",
    "* Settings - Hostname/Ports\n",
    "  * 컨테이너를 배포하는 호스트의 이름과 주소를 알 수 있다.\n",
    "![hostname/ports](fig 06/fig6-7.png)\n",
    "\n",
    "\n",
    "* Settings - Volumes\n",
    "  * 컨테이너가 도커 혹은 하드디스크 내에서 차지하는 용량을 알 수 있다.\n",
    "![volumes](fig 06/fig6-8.png)\n",
    "\n",
    "\n",
    "* Settings - Network\n",
    "  * Configure 에서 사용할 Network를 선택할 수 있다. (save 버튼을 눌러야 함)\n",
    "  * 컨테이너의 호스트 Network와 연결할 수 있다. (호스트가 받아들이지 않으면 연결되지 않음)\n",
    "![network](fig 06/fig6-9.png)\n",
    "\n",
    "\n",
    "* Settings - Advanced\n",
    "![advanced](fig 06/fig6-10.png)\n",
    "\n",
    "\n",
    "* Home - Web Preview\n",
    "  * 일부 컨테이너의 경우 Web으로 관련 페이지에 연결해주는 경우가 있다.\n",
    "![web preview](fig 06/fig6-11.png)\n",
    "\n",
    "\n",
    "* Home - Volumes\n",
    "  * 컨테이너가 차지하는 폴더를 보여준다.\n",
    "  * 사용자가 작업하기 위해서는 Docker에게 드라이브 사용 권한을 부여해야 한다.\n",
    "  * Docker Desktop - Settings - Shared drives 에서도 진행할 수 있다.\n",
    "![volumes](fig 06/fig6-12.png)\n",
    "![shared drive](fig 06/fig6-13.png)\n",
    "![shared drive](fig 06/fig6-14.png)\n",
    "![shared drive](fig 06/fig6-15.png)\n",
    "\n"
   ]
  },
  {
   "cell_type": "markdown",
   "metadata": {},
   "source": [
    "## 3. Kitematic 에서 컨테이너 찾기\n",
    "\n",
    "* Containers - New 를 누르면 Docker Hub에 있는 Image 들을 검색할 수 있다.\n",
    "![New Container](fig 06/fig6-16.png)\n",
    "* 검색 후 ` ... ` 을 누르면 Tag, Network 설정과 Docker Hub 상에서 볼 수 있는 링크를 볼 수 있다.\n",
    "![New Container ...](fig 06/fig6-17.png)\n",
    "* `Create`를 누르면 컨테이너를 Clone 한다.\n",
    "\n"
   ]
  },
  {
   "cell_type": "markdown",
   "metadata": {},
   "source": [
    "## 4. Fenics 이미지\n",
    "\n",
    "* Fenics-desktop 이미지 받기 (Create 누르기)\n",
    "![fenics-desktop](fig 06/fig6-18.png)\n",
    "\n",
    "\n",
    "* Container logs 확인\n",
    "  * Container logs 에 적힌 링크와 VNC 뷰어를 시도하였으나 실행되지는 않았다.\n",
    "![Container logs](fig 06/fig6-19.png)\n",
    "\n",
    "![Container logs - web](fig 06/fig6-20.png)\n",
    "\n",
    "![Container logs - vnc](fig 06/fig6-21.png)\n",
    "![Container logs - vnc](fig 06/fig6-22.png)\n",
    "![Container logs - vnc](fig 06/fig6-23.png)\n",
    "![Container logs - vnc](fig 06/fig6-24.png)\n",
    "![Container logs - vnc](fig 06/fig6-25.png)\n",
    "\n",
    "* Fenics를 검색했을 때 나오는 다양한 이미지 중 다운로드 수는 fenics-notebook 이 제일 많지만 Docker Hub에는 별 다른 설명이 기재되어 있지 않다.\n",
    "* fenics-desktop 은 Docker Hub에 설치 및 실행에 관한 설명이 내포되어 있다. (https://hub.docker.com/r/unifem/fenics-desktop)\n",
    "![New Container](fig 06/fig6-16.png)\n",
    "![Fenics-notebook](fig 06/fig6-27.png)\n",
    "![Fenics-desktop](fig 06/fig6-28.png)\n"
   ]
  }
 ],
 "metadata": {
  "kernelspec": {
   "display_name": "Python 3",
   "language": "python",
   "name": "python3"
  },
  "language_info": {
   "codemirror_mode": {
    "name": "ipython",
    "version": 3
   },
   "file_extension": ".py",
   "mimetype": "text/x-python",
   "name": "python",
   "nbconvert_exporter": "python",
   "pygments_lexer": "ipython3",
   "version": "3.6.5"
  }
 },
 "nbformat": 4,
 "nbformat_minor": 2
}
